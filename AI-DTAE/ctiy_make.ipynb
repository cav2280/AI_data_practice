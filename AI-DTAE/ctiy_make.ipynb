{
 "cells": [
  {
   "cell_type": "code",
   "execution_count": 1,
   "metadata": {},
   "outputs": [
    {
     "name": "stdout",
     "output_type": "stream",
     "text": [
      "    jb  ahr  sp  ap  grdp  gj  go  cgo  sup  pits  pses  hos  psap  pls  ppsp  \\\n",
      "0   88   18   5  10  4736  54  84   62    4    21    21   16    26   28    26   \n",
      "1   78   33   5  29  4769  61  90   77    4    23    14   13    16   26    14   \n",
      "2   64   10  13  20  1574  65  79   98    5    11    15   15    26   23    25   \n",
      "3   92   21  13  26  4261  75  66   74    2    26    13   10    29   18    15   \n",
      "4   57   17   8  17  2148  75  98   82    4    23    28   14    18   17    17   \n",
      "..  ..  ...  ..  ..   ...  ..  ..  ...  ...   ...   ...  ...   ...  ...   ...   \n",
      "95  64   32   7  28  2008  61  57   70    4    24    29   15    26   24    16   \n",
      "96  94   37   7  24  3141  98  90   97    5    20    24   10    19   21    23   \n",
      "97  50   34   7  11  2773  62  88   55    0    17    24   26    23   25    20   \n",
      "98  74   16   8  11  1957  72  50   77    4    28    10   20    26   28    22   \n",
      "99  56   39  12  28  4059  74  52   66    8    22    29   27    27   17    11   \n",
      "\n",
      "    target  \n",
      "0        1  \n",
      "1        1  \n",
      "2        1  \n",
      "3        1  \n",
      "4        1  \n",
      "..     ...  \n",
      "95       1  \n",
      "96       1  \n",
      "97       1  \n",
      "98       1  \n",
      "99       1  \n",
      "\n",
      "[100 rows x 16 columns]\n"
     ]
    }
   ],
   "source": [
    "import pandas as pd\n",
    "import numpy as np\n",
    "\n",
    "# 가상의 데이터 생성\n",
    "np.random.seed(42)\n",
    "data = {\n",
    "    'jb': np.random.randint(50, 100, 100),\n",
    "    'ahr': np.random.randint(10, 40, 100),\n",
    "    'sp': np.random.randint(5, 15, 100),\n",
    "    'ap': np.random.randint(10, 30, 100),\n",
    "    'grdp': np.random.randint(1000, 5000, 100),\n",
    "    'gj': np.random.randint(50, 100, 100),\n",
    "    'go': np.random.randint(50, 100, 100),\n",
    "    'cgo': np.random.randint(50, 100, 100),\n",
    "    'sup': np.random.randint(0, 10, 100),\n",
    "    'pits': np.random.randint(10, 30, 100),\n",
    "    'pses': np.random.randint(10, 30, 100),\n",
    "    'hos': np.random.randint(10, 30, 100),\n",
    "    'psap': np.random.randint(10, 30, 100),\n",
    "    'pls': np.random.randint(10, 30, 100),\n",
    "    'ppsp': np.random.randint(10, 30, 100)\n",
    "}\n",
    "\n",
    "# 가상의 데이터로 데이터프레임 생성\n",
    "df = pd.DataFrame(data)\n",
    "\n",
    "# 도시 양극화 지수 계산\n",
    "def calculate_polarization_index(row):\n",
    "    # 경제적 영역의 변수들을 사용하여 지수 계산 (여기서는 랜덤하게 생성한 데이터를 사용)\n",
    "    economic_factors = ['jb', 'ahr', 'sp', 'ap', 'grdp', 'gj', 'go', 'cgo', 'sup']\n",
    "    economic_index = row[economic_factors].mean()\n",
    "\n",
    "    # 사회적 영역의 변수들을 사용하여 지수 계산 (여기서는 랜덤하게 생성한 데이터를 사용)\n",
    "    social_factors = ['pits', 'pses', 'hos', 'psap', 'pls', 'ppsp']\n",
    "    social_index = row[social_factors].mean()\n",
    "\n",
    "    # 경제적 지수와 사회적 지수의 평균을 계산하여 도시 양극화 지수로 정의\n",
    "    polarization_index = (economic_index + social_index) / 2\n",
    "\n",
    "    # 도시 양극화 지수가 기준값 이상이면 1, 그렇지 않으면 0으로 분류\n",
    "    threshold = 70  # 임의로 설정한 기준값\n",
    "    target = 1 if polarization_index >= threshold else 0\n",
    "\n",
    "    return target\n",
    "\n",
    "# 도시 양극화 지수 계산 및 target 열 생성\n",
    "df['target'] = df.apply(calculate_polarization_index, axis=1)\n",
    "\n",
    "print(df)"
   ]
  },
  {
   "cell_type": "code",
   "execution_count": 2,
   "metadata": {},
   "outputs": [],
   "source": [
    "df.to_csv('ctiy_data.csv', index=False)"
   ]
  }
 ],
 "metadata": {
  "kernelspec": {
   "display_name": "Python 3",
   "language": "python",
   "name": "python3"
  },
  "language_info": {
   "codemirror_mode": {
    "name": "ipython",
    "version": 3
   },
   "file_extension": ".py",
   "mimetype": "text/x-python",
   "name": "python",
   "nbconvert_exporter": "python",
   "pygments_lexer": "ipython3",
   "version": "3.11.4"
  },
  "orig_nbformat": 4
 },
 "nbformat": 4,
 "nbformat_minor": 2
}
